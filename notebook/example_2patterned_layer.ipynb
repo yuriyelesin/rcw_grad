{
 "cells": [
  {
   "cell_type": "code",
   "execution_count": 2,
   "metadata": {},
   "outputs": [],
   "source": [
    "import os,sys\n",
    "Nthread = 1\n",
    "os.environ[\"OMP_NUM_THREADS\"] = str(Nthread) # export OMP_NUM_THREADS=1\n",
    "os.environ[\"OPENBLAS_NUM_THREADS\"] = str(Nthread) # export OPENBLAS_NUM_THREADS=1\n",
    "os.environ[\"MKL_NUM_THREADS\"] = str(Nthread) # export MKL_NUM_THREADS=1\n",
    "os.environ[\"VECLIB_MAXIMUM_THREADS\"] = str(Nthread) # export VECLIB_MAXIMUM_THREADS=1\n",
    "os.environ[\"NUMEXPR_NUM_THREADS\"] = str(Nthread) # export NUMEXPR_NUM_THREADS=1\n",
    "\n",
    "import matplotlib.pyplot as plt\n",
    "from numpy import pi\n",
    "import numpy as np\n",
    "\n",
    "rpath = '/Users/weiliang/Documents/rcw_grad'\n",
    "sys.path.append(rpath)\n",
    "sys.path.append(\"../\") \n",
    "# change it to 1 when using autograd\n",
    "import use_autograd\n",
    "use_autograd.use = 0\n",
    "\n",
    "import rcwa"
   ]
  },
  {
   "cell_type": "code",
   "execution_count": 3,
   "metadata": {},
   "outputs": [
    {
     "name": "stdout",
     "output_type": "stream",
     "text": [
      "Total nG =  97\n"
     ]
    }
   ],
   "source": [
    "nG = 101 # truncation order, the actual truncation order might differ from this\n",
    "# lattice vector\n",
    "Lx = .1\n",
    "Ly = .1\n",
    "L1 = [Lx,0.]\n",
    "L2 = [0.,Ly]\n",
    "\n",
    "# all patterned layers below have the same griding structure: Nx*Ny\n",
    "Nx = 100\n",
    "Ny = 100\n",
    "\n",
    "# frequency and angles\n",
    "freq = 1.\n",
    "theta = np.pi/6\n",
    "phi = np.pi*0\n",
    "\n",
    "# now consider 4 layers: vacuum + patterned + patterned + vacuum\n",
    "epsuniform0 = 1. # dielectric for layer 1 (uniform)\n",
    "epsuniformN = 1.  # dielectric for layer N (uniform)\n",
    "\n",
    "thick0 = 1. # thickness for vacuum layer 1\n",
    "thickp1 = 0.1 # thickness for patterned layer 1\n",
    "thickp2 = 0.1 # thickness for patterned layer 2\n",
    "thickN = 1.  # thickness for vacuum layer N\n",
    "\n",
    "# for patterned layer, eps = epsbkg + dof * epsdiff\n",
    "epsbkg = 1.\n",
    "epsdiff = 12.+1j*0\n",
    "\n",
    "# setup RCWA\n",
    "obj = rcwa.RCWA_obj(nG,L1,L2,freq,theta,phi)\n",
    "obj.Add_LayerUniform(thick0,epsuniform0)\n",
    "obj.Add_LayerGrid(thickp1,epsdiff,epsbkg,Nx,Ny)\n",
    "obj.Add_LayerGrid(thickp2,epsdiff,epsbkg,Nx,Ny)\n",
    "obj.Add_LayerUniform(thickN,epsuniformN)\n",
    "obj.Init_Setup(Gmethod=0)"
   ]
  },
  {
   "cell_type": "code",
   "execution_count": 4,
   "metadata": {
    "scrolled": false
   },
   "outputs": [
    {
     "data": {
      "image/png": "[encoded data removed]",
      "text/plain": [
       "<Figure size 432x288 with 2 Axes>"
      ]
     },
     "metadata": {
      "needs_background": "light"
     },
     "output_type": "display_data"
    },
    {
     "data": {
      "image/png": "[encoded data removed]",
      "text/plain": [
       "<Figure size 432x288 with 2 Axes>"
      ]
     },
     "metadata": {
      "needs_background": "light"
     },
     "output_type": "display_data"
    }
   ],
   "source": [
    "# Now set up epsilon of patterned layers: epsilon = epsbkg + dof * epsdiff\n",
    "\n",
    "# set up grid-1\n",
    "radius = 0.2\n",
    "dof1 = np.zeros((Nx,Ny))\n",
    "x0 = np.linspace(0,1.,Nx)\n",
    "y0 = np.linspace(0,1.,Ny)\n",
    "x, y = np.meshgrid(x0,y0,indexing='ij')\n",
    "sphere = (x-.5)**2+(y-.5)**2<radius**2\n",
    "dof1[sphere]=1\n",
    "\n",
    "# set up grid-2\n",
    "radius = 0.4\n",
    "dof2 = np.zeros((Nx,Ny))\n",
    "x0 = np.linspace(0,1.,Nx)\n",
    "y0 = np.linspace(0,1.,Ny)\n",
    "x, y = np.meshgrid(x0,y0,indexing='ij')\n",
    "sphere = (x-.5)**2+(y-.5)**2<radius**2\n",
    "dof2[sphere]=1\n",
    "\n",
    "plt.figure();\n",
    "plt.imshow(dof1)\n",
    "plt.colorbar()\n",
    "plt.show()\n",
    "\n",
    "plt.figure();\n",
    "plt.imshow(dof2)\n",
    "plt.colorbar()\n",
    "plt.show()"
   ]
  },
  {
   "cell_type": "code",
   "execution_count": 5,
   "metadata": {},
   "outputs": [],
   "source": [
    "# the total dof passing to rcwa will be concatenating all dofs in layer order, so the length will be Nx*Ny*NPatternedlayer\n",
    "dof = np.concatenate((dof1.flatten(),dof2.flatten()))\n",
    "\n",
    "# Now add DOF to rcwa\n",
    "obj.GridLayer_getDOF(dof.flatten())"
   ]
  },
  {
   "cell_type": "code",
   "execution_count": 6,
   "metadata": {},
   "outputs": [
    {
     "name": "stdout",
     "output_type": "stream",
     "text": [
      "R= 0.11239038909351202 , T= 0.8876096109065085 , Abs= -2.0539125955565396e-14\n"
     ]
    }
   ],
   "source": [
    "p_amp = 1.\n",
    "s_amp = 0.\n",
    "p_phase = 0.\n",
    "s_phase = 0.\n",
    "\n",
    "obj.MakeExcitationPlanewave(p_amp,p_phase,s_amp,s_phase,order = 0, direction = 'forward')\n",
    "R,T= obj.RT_Solve(normalize=1)\n",
    "print(\"R=\",R,\", T=\",T,\", Abs=\",1-R-T)"
   ]
  },
  {
   "cell_type": "code",
   "execution_count": null,
   "metadata": {},
   "outputs": [],
   "source": []
  }
 ],
 "metadata": {
  "kernelspec": {
   "display_name": "Python 3",
   "language": "python",
   "name": "python3"
  },
  "language_info": {
   "codemirror_mode": {
    "name": "ipython",
    "version": 3
   },
   "file_extension": ".py",
   "mimetype": "text/x-python",
   "name": "python",
   "nbconvert_exporter": "python",
   "pygments_lexer": "ipython3",
   "version": "3.6.8"
  }
 },
 "nbformat": 4,
 "nbformat_minor": 2
}
